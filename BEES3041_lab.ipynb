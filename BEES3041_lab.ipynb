{
 "cells": [
  {
   "cell_type": "markdown",
   "metadata": {},
   "source": [
    "# BEES3041: Modelling the photosynthetic response to environmental conditions"
   ]
  },
  {
   "cell_type": "markdown",
   "metadata": {},
   "source": [
    "![](data/logo.jpeg)\n",
    "\n",
    "# Introduction\n",
    "\n",
    "In this lab we are going to explore the C~3~ leaf-level photosynthesis model proposed by @Far80 and use this to simulate photosynthesis at leaf, ecosystem and global scales. The model is central to all land schemes embedded in coupled-climate models and predicts that photosynthesis is limited by the slowest of three biochemical processes: \n",
    "\n",
    "  1. The maximum rate of Rubisco-catalysed carboxylation\n",
    "  2. The rate of ribulose 1,5-bisphosphate (RuBP) regeneration via electron transport \n",
    "  3. The rate of RuBP regeneration via triose phosphate utilisation \n",
    "\n",
    "In this practical we are only going to consider the first two limitations. There a number of great papers which cover this subject in detail, see for example, @Ber13, @Med02 and @Sha85.\n",
    "\n",
    "We are going to use the photosynthesis model to:\n",
    "\n",
    "* learn how leaf-level photosynthesis responds to changes in the environmental forcing (photosynthetically active radiation, temperature and carbon dioxide).\n",
    "* simulate GPP at the ecosystem-scale (~1 km^2) using FLUXNET (eddy covariance) meteorological data.\n",
    "* build a simpler GPP model and apply this at the ecosystem scale.\n",
    "\n",
    "From playing with these model we should start to see the key assumptions that our models make. We should also begin to identify the key weakness in our approach as we apply the model at different scales. We should also start to build an understanding that would allow us to predict how vegetation will respond to global change.\n",
    "\n",
    "***\n",
    "\n",
    "# Temperature responses of model parameters\n",
    "\n",
    "Let's start by exploring the response of the model to temperature. First we need to generate some temperature data:"
   ]
  },
  {
   "cell_type": "code",
   "execution_count": 1,
   "metadata": {},
   "outputs": [],
   "source": [
    "%matplotlib notebook\n",
    "import sys\n",
    "import numpy as np\n",
    "import matplotlib.pyplot as plt\n",
    "\n",
    "sys.path.append(\"python\")\n",
    "from farq import FarquharC3\n",
    "import constants as c\n",
    "import parameters as p"
   ]
  },
  {
   "cell_type": "code",
   "execution_count": 2,
   "metadata": {},
   "outputs": [],
   "source": [
    "Tleaf = np.arange(0, 50.0+1.0) + c.DEG_2_KELVIN"
   ]
  },
  {
   "cell_type": "code",
   "execution_count": 3,
   "metadata": {},
   "outputs": [
    {
     "name": "stdout",
     "output_type": "stream",
     "text": [
      "[273.15 274.15 275.15 276.15 277.15 278.15 279.15 280.15 281.15 282.15\n",
      " 283.15 284.15 285.15 286.15 287.15 288.15 289.15 290.15 291.15 292.15\n",
      " 293.15 294.15 295.15 296.15 297.15 298.15 299.15 300.15 301.15 302.15\n",
      " 303.15 304.15 305.15 306.15 307.15 308.15 309.15 310.15 311.15 312.15\n",
      " 313.15 314.15 315.15 316.15 317.15 318.15 319.15 320.15 321.15 322.15\n",
      " 323.15]\n"
     ]
    }
   ],
   "source": [
    "print(Tleaf)"
   ]
  },
  {
   "cell_type": "markdown",
   "metadata": {},
   "source": [
    "The photosynthesis model has two major parameters, the potential rate of electron transport (Jmax) and the maximum rate of Rubisco activity (Vcmax). Both of these parameters vary as a function of temperature, let's plot them. I've copied the function calls from photosynthes.R:"
   ]
  },
  {
   "cell_type": "code",
   "execution_count": 4,
   "metadata": {},
   "outputs": [],
   "source": [
    "F = FarquharC3(peaked_Jmax=True, peaked_Vcmax=True, gs_model=\"medlyn\")"
   ]
  },
  {
   "cell_type": "code",
   "execution_count": 6,
   "metadata": {},
   "outputs": [],
   "source": [
    "Vcmax = F.peaked_arrh(p.Vcmax25, p.Eav, Tleaf, p.deltaSv, p.Hdv)\n",
    "Jmax = F.peaked_arrh(p.Jmax25, p.Eaj, Tleaf, p.deltaSj, p.Hdj)\n"
   ]
  },
  {
   "cell_type": "code",
   "execution_count": null,
   "metadata": {},
   "outputs": [],
   "source": []
  }
 ],
 "metadata": {
  "kernelspec": {
   "display_name": "Python 3",
   "language": "python",
   "name": "python3"
  },
  "language_info": {
   "codemirror_mode": {
    "name": "ipython",
    "version": 3
   },
   "file_extension": ".py",
   "mimetype": "text/x-python",
   "name": "python",
   "nbconvert_exporter": "python",
   "pygments_lexer": "ipython3",
   "version": "3.6.8"
  },
  "widgets": {
   "application/vnd.jupyter.widget-state+json": {
    "state": {},
    "version_major": 2,
    "version_minor": 0
   }
  }
 },
 "nbformat": 4,
 "nbformat_minor": 2
}
